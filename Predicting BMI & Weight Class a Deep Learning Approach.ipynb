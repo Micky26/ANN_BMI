{
 "cells": [
  {
   "cell_type": "markdown",
   "id": "4f955b39",
   "metadata": {},
   "source": [
    "# Step 1 : Installing and Importing the required Packages and Libraries"
   ]
  },
  {
   "cell_type": "code",
   "execution_count": 9,
   "id": "d697f84d",
   "metadata": {},
   "outputs": [
    {
     "name": "stdout",
     "output_type": "stream",
     "text": [
      "Requirement already satisfied: keras in c:\\users\\dell\\anaconda3\\lib\\site-packages (2.12.0)\n",
      "Requirement already satisfied: tensorflow in c:\\users\\dell\\anaconda3\\lib\\site-packages (2.12.0)"
     ]
    },
    {
     "name": "stderr",
     "output_type": "stream",
     "text": [
      "ERROR: pip's dependency resolver does not currently take into account all the packages that are installed. This behaviour is the source of the following dependency conflicts.\n",
      "daal4py 2021.6.0 requires daal==2021.4.0, which is not installed.\n",
      "numba 0.55.1 requires numpy<1.22,>=1.18, but you have numpy 1.23.5 which is incompatible.\n"
     ]
    },
    {
     "name": "stdout",
     "output_type": "stream",
     "text": [
      "\n",
      "Requirement already satisfied: tensorflow-intel==2.12.0 in c:\\users\\dell\\anaconda3\\lib\\site-packages (from tensorflow) (2.12.0)\n",
      "Requirement already satisfied: absl-py>=1.0.0 in c:\\users\\dell\\anaconda3\\lib\\site-packages (from tensorflow-intel==2.12.0->tensorflow) (1.4.0)\n",
      "Requirement already satisfied: astunparse>=1.6.0 in c:\\users\\dell\\anaconda3\\lib\\site-packages (from tensorflow-intel==2.12.0->tensorflow) (1.6.3)\n",
      "Requirement already satisfied: flatbuffers>=2.0 in c:\\users\\dell\\anaconda3\\lib\\site-packages (from tensorflow-intel==2.12.0->tensorflow) (23.3.3)\n",
      "Requirement already satisfied: gast<=0.4.0,>=0.2.1 in c:\\users\\dell\\anaconda3\\lib\\site-packages (from tensorflow-intel==2.12.0->tensorflow) (0.4.0)\n",
      "Requirement already satisfied: google-pasta>=0.1.1 in c:\\users\\dell\\anaconda3\\lib\\site-packages (from tensorflow-intel==2.12.0->tensorflow) (0.2.0)\n",
      "Requirement already satisfied: h5py>=2.9.0 in c:\\users\\dell\\anaconda3\\lib\\site-packages (from tensorflow-intel==2.12.0->tensorflow) (3.7.0)\n",
      "Requirement already satisfied: jax>=0.3.15 in c:\\users\\dell\\anaconda3\\lib\\site-packages (from tensorflow-intel==2.12.0->tensorflow) (0.4.6)\n",
      "Requirement already satisfied: libclang>=13.0.0 in c:\\users\\dell\\anaconda3\\lib\\site-packages (from tensorflow-intel==2.12.0->tensorflow) (15.0.6.1)\n",
      "Collecting numpy<1.24,>=1.22 (from tensorflow-intel==2.12.0->tensorflow)\n",
      "  Using cached numpy-1.23.5-cp39-cp39-win_amd64.whl (14.7 MB)\n",
      "Requirement already satisfied: opt-einsum>=2.3.2 in c:\\users\\dell\\anaconda3\\lib\\site-packages (from tensorflow-intel==2.12.0->tensorflow) (3.3.0)\n",
      "Requirement already satisfied: packaging in c:\\users\\dell\\anaconda3\\lib\\site-packages (from tensorflow-intel==2.12.0->tensorflow) (21.3)\n",
      "Requirement already satisfied: protobuf!=4.21.0,!=4.21.1,!=4.21.2,!=4.21.3,!=4.21.4,!=4.21.5,<5.0.0dev,>=3.20.3 in c:\\users\\dell\\anaconda3\\lib\\site-packages (from tensorflow-intel==2.12.0->tensorflow) (4.22.1)\n",
      "Requirement already satisfied: setuptools in c:\\users\\dell\\anaconda3\\lib\\site-packages (from tensorflow-intel==2.12.0->tensorflow) (68.0.0)\n",
      "Requirement already satisfied: six>=1.12.0 in c:\\users\\dell\\anaconda3\\lib\\site-packages (from tensorflow-intel==2.12.0->tensorflow) (1.16.0)\n",
      "Requirement already satisfied: termcolor>=1.1.0 in c:\\users\\dell\\anaconda3\\lib\\site-packages (from tensorflow-intel==2.12.0->tensorflow) (2.2.0)\n",
      "Requirement already satisfied: typing-extensions>=3.6.6 in c:\\users\\dell\\anaconda3\\lib\\site-packages (from tensorflow-intel==2.12.0->tensorflow) (4.3.0)\n",
      "Requirement already satisfied: wrapt<1.15,>=1.11.0 in c:\\users\\dell\\anaconda3\\lib\\site-packages (from tensorflow-intel==2.12.0->tensorflow) (1.14.1)\n",
      "Requirement already satisfied: grpcio<2.0,>=1.24.3 in c:\\users\\dell\\anaconda3\\lib\\site-packages (from tensorflow-intel==2.12.0->tensorflow) (1.51.3)\n",
      "Requirement already satisfied: tensorboard<2.13,>=2.12 in c:\\users\\dell\\anaconda3\\lib\\site-packages (from tensorflow-intel==2.12.0->tensorflow) (2.12.0)\n",
      "Requirement already satisfied: tensorflow-estimator<2.13,>=2.12.0 in c:\\users\\dell\\anaconda3\\lib\\site-packages (from tensorflow-intel==2.12.0->tensorflow) (2.12.0)\n",
      "Requirement already satisfied: keras<2.13,>=2.12.0 in c:\\users\\dell\\anaconda3\\lib\\site-packages (from tensorflow-intel==2.12.0->tensorflow) (2.12.0)\n",
      "Requirement already satisfied: tensorflow-io-gcs-filesystem>=0.23.1 in c:\\users\\dell\\anaconda3\\lib\\site-packages (from tensorflow-intel==2.12.0->tensorflow) (0.31.0)\n",
      "Requirement already satisfied: wheel<1.0,>=0.23.0 in c:\\users\\dell\\anaconda3\\lib\\site-packages (from astunparse>=1.6.0->tensorflow-intel==2.12.0->tensorflow) (0.37.1)\n",
      "Requirement already satisfied: scipy>=1.5 in c:\\users\\dell\\anaconda3\\lib\\site-packages (from jax>=0.3.15->tensorflow-intel==2.12.0->tensorflow) (1.9.1)\n",
      "Requirement already satisfied: google-auth<3,>=1.6.3 in c:\\users\\dell\\anaconda3\\lib\\site-packages (from tensorboard<2.13,>=2.12->tensorflow-intel==2.12.0->tensorflow) (2.16.2)\n",
      "Requirement already satisfied: google-auth-oauthlib<0.5,>=0.4.1 in c:\\users\\dell\\anaconda3\\lib\\site-packages (from tensorboard<2.13,>=2.12->tensorflow-intel==2.12.0->tensorflow) (0.4.6)\n",
      "Requirement already satisfied: markdown>=2.6.8 in c:\\users\\dell\\anaconda3\\lib\\site-packages (from tensorboard<2.13,>=2.12->tensorflow-intel==2.12.0->tensorflow) (3.4.3)\n",
      "Requirement already satisfied: requests<3,>=2.21.0 in c:\\users\\dell\\anaconda3\\lib\\site-packages (from tensorboard<2.13,>=2.12->tensorflow-intel==2.12.0->tensorflow) (2.28.1)\n",
      "Requirement already satisfied: tensorboard-data-server<0.8.0,>=0.7.0 in c:\\users\\dell\\anaconda3\\lib\\site-packages (from tensorboard<2.13,>=2.12->tensorflow-intel==2.12.0->tensorflow) (0.7.0)\n",
      "Requirement already satisfied: tensorboard-plugin-wit>=1.6.0 in c:\\users\\dell\\anaconda3\\lib\\site-packages (from tensorboard<2.13,>=2.12->tensorflow-intel==2.12.0->tensorflow) (1.8.1)\n",
      "Requirement already satisfied: werkzeug>=1.0.1 in c:\\users\\dell\\anaconda3\\lib\\site-packages (from tensorboard<2.13,>=2.12->tensorflow-intel==2.12.0->tensorflow) (2.3.6)\n",
      "Requirement already satisfied: pyparsing!=3.0.5,>=2.0.2 in c:\\users\\dell\\anaconda3\\lib\\site-packages (from packaging->tensorflow-intel==2.12.0->tensorflow) (3.0.9)\n",
      "Requirement already satisfied: cachetools<6.0,>=2.0.0 in c:\\users\\dell\\anaconda3\\lib\\site-packages (from google-auth<3,>=1.6.3->tensorboard<2.13,>=2.12->tensorflow-intel==2.12.0->tensorflow) (5.3.0)\n",
      "Requirement already satisfied: pyasn1-modules>=0.2.1 in c:\\users\\dell\\anaconda3\\lib\\site-packages (from google-auth<3,>=1.6.3->tensorboard<2.13,>=2.12->tensorflow-intel==2.12.0->tensorflow) (0.2.8)\n",
      "Requirement already satisfied: rsa<5,>=3.1.4 in c:\\users\\dell\\anaconda3\\lib\\site-packages (from google-auth<3,>=1.6.3->tensorboard<2.13,>=2.12->tensorflow-intel==2.12.0->tensorflow) (4.9)\n",
      "Requirement already satisfied: requests-oauthlib>=0.7.0 in c:\\users\\dell\\anaconda3\\lib\\site-packages (from google-auth-oauthlib<0.5,>=0.4.1->tensorboard<2.13,>=2.12->tensorflow-intel==2.12.0->tensorflow) (1.3.1)\n",
      "Requirement already satisfied: importlib-metadata>=4.4 in c:\\users\\dell\\anaconda3\\lib\\site-packages (from markdown>=2.6.8->tensorboard<2.13,>=2.12->tensorflow-intel==2.12.0->tensorflow) (4.11.3)\n",
      "Requirement already satisfied: charset-normalizer<3,>=2 in c:\\users\\dell\\anaconda3\\lib\\site-packages (from requests<3,>=2.21.0->tensorboard<2.13,>=2.12->tensorflow-intel==2.12.0->tensorflow) (2.0.4)\n",
      "Requirement already satisfied: idna<4,>=2.5 in c:\\users\\dell\\anaconda3\\lib\\site-packages (from requests<3,>=2.21.0->tensorboard<2.13,>=2.12->tensorflow-intel==2.12.0->tensorflow) (3.3)\n",
      "Requirement already satisfied: urllib3<1.27,>=1.21.1 in c:\\users\\dell\\anaconda3\\lib\\site-packages (from requests<3,>=2.21.0->tensorboard<2.13,>=2.12->tensorflow-intel==2.12.0->tensorflow) (1.26.11)\n",
      "Requirement already satisfied: certifi>=2017.4.17 in c:\\users\\dell\\anaconda3\\lib\\site-packages (from requests<3,>=2.21.0->tensorboard<2.13,>=2.12->tensorflow-intel==2.12.0->tensorflow) (2022.9.14)\n",
      "Requirement already satisfied: MarkupSafe>=2.1.1 in c:\\users\\dell\\anaconda3\\lib\\site-packages (from werkzeug>=1.0.1->tensorboard<2.13,>=2.12->tensorflow-intel==2.12.0->tensorflow) (2.1.3)\n",
      "Requirement already satisfied: zipp>=0.5 in c:\\users\\dell\\anaconda3\\lib\\site-packages (from importlib-metadata>=4.4->markdown>=2.6.8->tensorboard<2.13,>=2.12->tensorflow-intel==2.12.0->tensorflow) (3.8.0)\n",
      "Requirement already satisfied: pyasn1<0.5.0,>=0.4.6 in c:\\users\\dell\\anaconda3\\lib\\site-packages (from pyasn1-modules>=0.2.1->google-auth<3,>=1.6.3->tensorboard<2.13,>=2.12->tensorflow-intel==2.12.0->tensorflow) (0.4.8)\n",
      "Requirement already satisfied: oauthlib>=3.0.0 in c:\\users\\dell\\anaconda3\\lib\\site-packages (from requests-oauthlib>=0.7.0->google-auth-oauthlib<0.5,>=0.4.1->tensorboard<2.13,>=2.12->tensorflow-intel==2.12.0->tensorflow) (3.2.2)\n",
      "Installing collected packages: numpy\n",
      "  Attempting uninstall: numpy\n",
      "    Found existing installation: numpy 1.25.1\n",
      "    Uninstalling numpy-1.25.1:\n",
      "      Successfully uninstalled numpy-1.25.1\n",
      "Successfully installed numpy-1.23.5\n"
     ]
    }
   ],
   "source": [
    "! pip install keras\n",
    "! pip install tensorflow"
   ]
  },
  {
   "cell_type": "code",
   "execution_count": 73,
   "id": "71ca41e9",
   "metadata": {},
   "outputs": [],
   "source": [
    "#Importing the libraries for data manipulation and visualisation\n",
    "import numpy as np\n",
    "import pandas as pd\n",
    "import matplotlib.pyplot as plt\n",
    "import seaborn as sns\n",
    "import os\n",
    "from sklearn.model_selection import train_test_split"
   ]
  },
  {
   "cell_type": "markdown",
   "id": "b6c75ce1",
   "metadata": {},
   "source": [
    "# Generating the Dataset"
   ]
  },
  {
   "cell_type": "code",
   "execution_count": 203,
   "id": "16137032",
   "metadata": {},
   "outputs": [
    {
     "name": "stdout",
     "output_type": "stream",
     "text": [
      "   Age    Height      Weight        BMI      class_\n",
      "0   32  1.670465   85.218052  30.539153       Obese\n",
      "1   39  1.778770  101.276708  32.008848       Obese\n",
      "2   47  1.691616   78.483753  27.426854  Overweight\n",
      "3   45  1.718550   72.263484  24.467789      Normal\n",
      "4   24  1.829615   62.885382  18.785818      Normal\n"
     ]
    }
   ],
   "source": [
    "# Number of data points\n",
    "n = 20000\n",
    "\n",
    "# Generate random age data between 18 and 65\n",
    "age = np.random.randint(18, 66, n)\n",
    "\n",
    "# Generate random height data between 1.5m and 2.0m. Height is normally distributed in the population\n",
    "height = np.random.normal(1.75, 0.1, n)  # using average adult height ~1.75m, std deviation 0.1\n",
    "\n",
    "# Ensure no height values are outside the range [1.5, 2.0]\n",
    "height = np.clip(height, 1.5, 2.0)\n",
    "\n",
    "# Generate weight based on BMI formula. For simplicity, let's consider that BMI is normally distributed with mean=25 (overweight threshold), std deviation 5\n",
    "bmi = np.random.normal(25, 5, n)  # using average BMI ~25, std deviation 5\n",
    "\n",
    "# Ensure no BMI values are outside the range [15 (underweight), 40 (obese class III)]\n",
    "bmi = np.clip(bmi, 15, 40)\n",
    "\n",
    "# Calculate weight based on BMI = weight(kg) / (height(m))^2\n",
    "weight = bmi * (height ** 2)\n",
    "\n",
    "# Calculate weight class based on BMI\n",
    "weight_class = pd.cut(bmi, bins=[0, 18.5, 25, 30, np.inf], labels=['Underweight', 'Normal', 'Overweight', 'Obese'])\n",
    "\n",
    "# Creating DataFrame\n",
    "df = pd.DataFrame({\n",
    "    'Age': age,\n",
    "    'Height': height,\n",
    "    'Weight': weight,\n",
    "    'BMI': bmi,\n",
    "    'class_': weight_class\n",
    "})\n",
    "\n",
    "print(df.head())"
   ]
  },
  {
   "cell_type": "markdown",
   "id": "9dc55f27",
   "metadata": {},
   "source": [
    "# Step 2 : Exploring the Dataset the Dataset has been Synthetically Generated"
   ]
  },
  {
   "cell_type": "code",
   "execution_count": 179,
   "id": "ca0dcda6",
   "metadata": {},
   "outputs": [
    {
     "data": {
      "text/plain": [
       "Age       0\n",
       "Height    0\n",
       "Weight    0\n",
       "BMI       0\n",
       "dtype: int64"
      ]
     },
     "execution_count": 179,
     "metadata": {},
     "output_type": "execute_result"
    }
   ],
   "source": [
    "df.isnull().sum() # missing or NaN (Not a Number) values"
   ]
  },
  {
   "cell_type": "code",
   "execution_count": 18,
   "id": "bc694e03",
   "metadata": {},
   "outputs": [],
   "source": [
    "# dropping all remove rows with missing or NaN (Not a Number) values, you can still explore the data to clean further.\n",
    "\n",
    "# df.dropna(inplace = True)"
   ]
  },
  {
   "cell_type": "code",
   "execution_count": 180,
   "id": "549bff87",
   "metadata": {},
   "outputs": [
    {
     "data": {
      "text/html": [
       "<div>\n",
       "<style scoped>\n",
       "    .dataframe tbody tr th:only-of-type {\n",
       "        vertical-align: middle;\n",
       "    }\n",
       "\n",
       "    .dataframe tbody tr th {\n",
       "        vertical-align: top;\n",
       "    }\n",
       "\n",
       "    .dataframe thead th {\n",
       "        text-align: right;\n",
       "    }\n",
       "</style>\n",
       "<table border=\"1\" class=\"dataframe\">\n",
       "  <thead>\n",
       "    <tr style=\"text-align: right;\">\n",
       "      <th></th>\n",
       "      <th>Age</th>\n",
       "      <th>Height</th>\n",
       "      <th>Weight</th>\n",
       "      <th>BMI</th>\n",
       "    </tr>\n",
       "  </thead>\n",
       "  <tbody>\n",
       "    <tr>\n",
       "      <th>0</th>\n",
       "      <td>45</td>\n",
       "      <td>1.754637</td>\n",
       "      <td>74.042550</td>\n",
       "      <td>24.049539</td>\n",
       "    </tr>\n",
       "    <tr>\n",
       "      <th>1</th>\n",
       "      <td>41</td>\n",
       "      <td>1.617633</td>\n",
       "      <td>40.049410</td>\n",
       "      <td>15.305094</td>\n",
       "    </tr>\n",
       "    <tr>\n",
       "      <th>2</th>\n",
       "      <td>47</td>\n",
       "      <td>1.876394</td>\n",
       "      <td>89.903532</td>\n",
       "      <td>25.534587</td>\n",
       "    </tr>\n",
       "    <tr>\n",
       "      <th>3</th>\n",
       "      <td>42</td>\n",
       "      <td>1.643546</td>\n",
       "      <td>73.084326</td>\n",
       "      <td>27.055820</td>\n",
       "    </tr>\n",
       "    <tr>\n",
       "      <th>4</th>\n",
       "      <td>53</td>\n",
       "      <td>1.744494</td>\n",
       "      <td>54.771455</td>\n",
       "      <td>17.997620</td>\n",
       "    </tr>\n",
       "  </tbody>\n",
       "</table>\n",
       "</div>"
      ],
      "text/plain": [
       "   Age    Height     Weight        BMI\n",
       "0   45  1.754637  74.042550  24.049539\n",
       "1   41  1.617633  40.049410  15.305094\n",
       "2   47  1.876394  89.903532  25.534587\n",
       "3   42  1.643546  73.084326  27.055820\n",
       "4   53  1.744494  54.771455  17.997620"
      ]
     },
     "execution_count": 180,
     "metadata": {},
     "output_type": "execute_result"
    }
   ],
   "source": [
    "df.head()"
   ]
  },
  {
   "cell_type": "code",
   "execution_count": 181,
   "id": "387e94e4",
   "metadata": {},
   "outputs": [
    {
     "name": "stdout",
     "output_type": "stream",
     "text": [
      "<class 'pandas.core.frame.DataFrame'>\n",
      "RangeIndex: 20000 entries, 0 to 19999\n",
      "Data columns (total 4 columns):\n",
      " #   Column  Non-Null Count  Dtype  \n",
      "---  ------  --------------  -----  \n",
      " 0   Age     20000 non-null  int32  \n",
      " 1   Height  20000 non-null  float64\n",
      " 2   Weight  20000 non-null  float64\n",
      " 3   BMI     20000 non-null  float64\n",
      "dtypes: float64(3), int32(1)\n",
      "memory usage: 547.0 KB\n"
     ]
    }
   ],
   "source": [
    "df.info()"
   ]
  },
  {
   "cell_type": "markdown",
   "id": "7f28a6f2",
   "metadata": {},
   "source": [
    "# Part A : Regression"
   ]
  },
  {
   "cell_type": "code",
   "execution_count": 183,
   "id": "7f33f599",
   "metadata": {},
   "outputs": [
    {
     "data": {
      "text/html": [
       "<div>\n",
       "<style scoped>\n",
       "    .dataframe tbody tr th:only-of-type {\n",
       "        vertical-align: middle;\n",
       "    }\n",
       "\n",
       "    .dataframe tbody tr th {\n",
       "        vertical-align: top;\n",
       "    }\n",
       "\n",
       "    .dataframe thead th {\n",
       "        text-align: right;\n",
       "    }\n",
       "</style>\n",
       "<table border=\"1\" class=\"dataframe\">\n",
       "  <thead>\n",
       "    <tr style=\"text-align: right;\">\n",
       "      <th></th>\n",
       "      <th>Height</th>\n",
       "      <th>Weight</th>\n",
       "      <th>BMI</th>\n",
       "    </tr>\n",
       "  </thead>\n",
       "  <tbody>\n",
       "    <tr>\n",
       "      <th>Height</th>\n",
       "      <td>1.000000</td>\n",
       "      <td>0.503175</td>\n",
       "      <td>0.002815</td>\n",
       "    </tr>\n",
       "    <tr>\n",
       "      <th>Weight</th>\n",
       "      <td>0.503175</td>\n",
       "      <td>1.000000</td>\n",
       "      <td>0.860012</td>\n",
       "    </tr>\n",
       "    <tr>\n",
       "      <th>BMI</th>\n",
       "      <td>0.002815</td>\n",
       "      <td>0.860012</td>\n",
       "      <td>1.000000</td>\n",
       "    </tr>\n",
       "  </tbody>\n",
       "</table>\n",
       "</div>"
      ],
      "text/plain": [
       "          Height    Weight       BMI\n",
       "Height  1.000000  0.503175  0.002815\n",
       "Weight  0.503175  1.000000  0.860012\n",
       "BMI     0.002815  0.860012  1.000000"
      ]
     },
     "execution_count": 183,
     "metadata": {},
     "output_type": "execute_result"
    }
   ],
   "source": [
    "# Checking for correlation in my dataset\n",
    "data = df[['Height', 'Weight', 'BMI']]\n",
    "data.corr()"
   ]
  },
  {
   "cell_type": "code",
   "execution_count": 185,
   "id": "2da76498",
   "metadata": {},
   "outputs": [],
   "source": [
    "X = df[['Height', 'Weight']] # independent variables\n",
    "y = df['BMI'] # dependent variables"
   ]
  },
  {
   "cell_type": "code",
   "execution_count": 186,
   "id": "9f369304",
   "metadata": {},
   "outputs": [],
   "source": [
    "# Split data into training and testing sets\n",
    "X_train, X_test, y_train, y_test = train_test_split(X, y, test_size=0.2, random_state = 42)"
   ]
  },
  {
   "cell_type": "code",
   "execution_count": 187,
   "id": "e8169c57",
   "metadata": {},
   "outputs": [],
   "source": [
    "#Standardise the dataset (you can also use StandardScaler) to Prevent dominance of any features.\n",
    "from sklearn.preprocessing import MinMaxScaler\n",
    "\n",
    "scaler = MinMaxScaler()\n",
    "X_train=scaler.fit_transform(X_train)\n",
    "X_test=scaler.transform(X_test) # we remove .fit because we dont want to learn from the test set we only want to transform."
   ]
  },
  {
   "cell_type": "code",
   "execution_count": 188,
   "id": "6aef16d0",
   "metadata": {},
   "outputs": [
    {
     "data": {
      "text/plain": [
       "array([[0.48107036, 0.40624255],\n",
       "       [0.16832885, 0.29336123],\n",
       "       [0.73490813, 0.75071946],\n",
       "       ...,\n",
       "       [0.78808923, 0.16947178],\n",
       "       [0.24695462, 0.34635805],\n",
       "       [0.89888603, 0.51248806]])"
      ]
     },
     "execution_count": 188,
     "metadata": {},
     "output_type": "execute_result"
    }
   ],
   "source": [
    "X_train"
   ]
  },
  {
   "cell_type": "code",
   "execution_count": 189,
   "id": "785aeb19",
   "metadata": {},
   "outputs": [],
   "source": [
    "#Import the necessary libraries to build a neural network\n",
    "\n",
    "# needed to build a sequential model class\n",
    "from keras.models import Sequential\n",
    "\n",
    "# Dense indicates fully-connected networks and the dropout\n",
    "from keras.layers import Dense, Dropout\n",
    "\n",
    "# It is used as a loss function during model training\n",
    "from keras.losses import mean_squared_error\n",
    "\n",
    "# adopting stochastic gradient descent to optimise weights\n",
    "from keras.optimizers import SGD\n",
    "\n",
    "# It is used to evaluate the model's performance during training and/or validation\n",
    "from keras.metrics import mean_squared_error"
   ]
  },
  {
   "cell_type": "code",
   "execution_count": 190,
   "id": "14fccbea",
   "metadata": {},
   "outputs": [],
   "source": [
    "# instantiating and building the neural network model\n",
    "model = Sequential()\n",
    "\n",
    "#Input layer with 2 units (input_dim=2).\n",
    "\n",
    "#First hidden layer with 64 units and ReLU activation function.\n",
    "model.add(Dense(units=64,input_dim=(2), activation = 'relu'))\n",
    "\n",
    "#Dropout layer with 20% dropout rate (helps to prevent overfitting by randomly dropping \n",
    "#(i.e. setting to zero) a fraction of the input units during training.\n",
    "model.add(Dropout(0.2))\n",
    "\n",
    "#Second hidden layer with 64 units and ReLU activation function.\n",
    "model.add(Dense(units=64,activation='relu'))\n",
    "\n",
    "\n",
    "#Output layer with 1 unit and linear activation function.\n",
    "#The linear activation function is used in the output layer because \n",
    "#the task is a regression problem (predicting a continuous output variable).\n",
    "model.add(Dense(units=1,activation = 'linear'))"
   ]
  },
  {
   "cell_type": "code",
   "execution_count": 191,
   "id": "be1b91a7",
   "metadata": {},
   "outputs": [
    {
     "name": "stdout",
     "output_type": "stream",
     "text": [
      "Model: \"sequential_8\"\n",
      "_________________________________________________________________\n",
      " Layer (type)                Output Shape              Param #   \n",
      "=================================================================\n",
      " dense_24 (Dense)            (None, 64)                192       \n",
      "                                                                 \n",
      " dropout_8 (Dropout)         (None, 64)                0         \n",
      "                                                                 \n",
      " dense_25 (Dense)            (None, 64)                4160      \n",
      "                                                                 \n",
      " dense_26 (Dense)            (None, 1)                 65        \n",
      "                                                                 \n",
      "=================================================================\n",
      "Total params: 4,417\n",
      "Trainable params: 4,417\n",
      "Non-trainable params: 0\n",
      "_________________________________________________________________\n"
     ]
    }
   ],
   "source": [
    "# Printing the summary of my model   64*2 1st hidden layer Params; 64*64 last hidden layer Params\n",
    "model.summary()"
   ]
  },
  {
   "cell_type": "code",
   "execution_count": 192,
   "id": "1aacdbb9",
   "metadata": {},
   "outputs": [],
   "source": [
    "# model compilation\n",
    "\n",
    "#MSE - loss function during model training\n",
    "#MSE - Evaluation measure\n",
    "#adam - ADAptive Moment estimation\n",
    "model.compile(optimizer='adam',loss='mean_squared_error',metrics='mean_squared_error')"
   ]
  },
  {
   "cell_type": "markdown",
   "id": "78ba8ca5",
   "metadata": {},
   "source": [
    "Early stopping is a technique used to prevent overfitting in neural networks by stopping the training process early if the model’s performance on a validation dataset stops improving.\n",
    "\n",
    "In your example, you have imported the EarlyStopping callback from Keras and created an instance of it with the monitor argument set to 'val_loss' and the patience argument set to 20. This means that during training, the callback will monitor the validation loss, and if it doesn’t improve for 20 consecutive epochs, the training process will be stopped early.\n",
    "\n",
    "The patience argument specifies the number of epochs to wait before stopping the training process if there is no improvement in the monitored quantity. In this case, a patience of 20 means that if the validation loss doesn’t improve for 20 consecutive epochs, the training process will be stopped."
   ]
  },
  {
   "cell_type": "code",
   "execution_count": 193,
   "id": "fd1f097c",
   "metadata": {},
   "outputs": [],
   "source": [
    "# imported EarlyStopping\n",
    "from keras.callbacks import EarlyStopping\n",
    "# added early stopping with patience = 20\n",
    "early_stopping = EarlyStopping(monitor='val_loss',patience=20)"
   ]
  },
  {
   "cell_type": "code",
   "execution_count": 154,
   "id": "fc312665",
   "metadata": {},
   "outputs": [],
   "source": [
    "# batch_size=None: The default batch size is used, which means the entire dataset will b\n",
    "#epochs=10: The model will be trained for 20 epochs; \n",
    "#This means the dataset will be passed through the model 20 times for training.\n",
    "#verbose='auto': The training progress will be displayed with progress bars.\n",
    "#validation_split=0.2: 20% of the training data will be used for validation during train.\n",
    "#callbacks=[early_stopping]: The training will be stopped early if the validation loss doesnt improve."
   ]
  },
  {
   "cell_type": "code",
   "execution_count": 194,
   "id": "6d5ca445",
   "metadata": {},
   "outputs": [
    {
     "name": "stdout",
     "output_type": "stream",
     "text": [
      "Epoch 1/10\n",
      "400/400 [==============================] - 3s 4ms/step - loss: 141.3195 - mean_squared_error: 141.3195 - val_loss: 12.2022 - val_mean_squared_error: 12.2022\n",
      "Epoch 2/10\n",
      "400/400 [==============================] - 2s 6ms/step - loss: 8.9926 - mean_squared_error: 8.9926 - val_loss: 1.2402 - val_mean_squared_error: 1.2402\n",
      "Epoch 3/10\n",
      "400/400 [==============================] - 2s 4ms/step - loss: 5.0125 - mean_squared_error: 5.0125 - val_loss: 0.5538 - val_mean_squared_error: 0.5538\n",
      "Epoch 4/10\n",
      "400/400 [==============================] - 2s 6ms/step - loss: 4.3158 - mean_squared_error: 4.3158 - val_loss: 0.3255 - val_mean_squared_error: 0.3255\n",
      "Epoch 5/10\n",
      "400/400 [==============================] - 2s 6ms/step - loss: 3.7491 - mean_squared_error: 3.7491 - val_loss: 0.2768 - val_mean_squared_error: 0.2768\n",
      "Epoch 6/10\n",
      "400/400 [==============================] - 2s 5ms/step - loss: 3.4079 - mean_squared_error: 3.4079 - val_loss: 0.2290 - val_mean_squared_error: 0.2290\n",
      "Epoch 7/10\n",
      "400/400 [==============================] - 2s 5ms/step - loss: 3.0718 - mean_squared_error: 3.0718 - val_loss: 0.2164 - val_mean_squared_error: 0.2164\n",
      "Epoch 8/10\n",
      "400/400 [==============================] - 2s 5ms/step - loss: 2.6229 - mean_squared_error: 2.6229 - val_loss: 0.2027 - val_mean_squared_error: 0.2027\n",
      "Epoch 9/10\n",
      "400/400 [==============================] - 1s 3ms/step - loss: 2.2465 - mean_squared_error: 2.2465 - val_loss: 0.2665 - val_mean_squared_error: 0.2665\n",
      "Epoch 10/10\n",
      "400/400 [==============================] - 2s 4ms/step - loss: 1.8579 - mean_squared_error: 1.8579 - val_loss: 0.1615 - val_mean_squared_error: 0.1615\n"
     ]
    }
   ],
   "source": [
    "history=model.fit(x=X_train,y=y_train,batch_size=None,epochs=10,verbose='auto',validation_split=0.2,callbacks=[early_stopping])"
   ]
  },
  {
   "cell_type": "code",
   "execution_count": 195,
   "id": "af1f65f7",
   "metadata": {},
   "outputs": [
    {
     "data": {
      "image/png": "[encoded data removed]",
      "text/plain": [
       "<Figure size 300x400 with 1 Axes>"
      ]
     },
     "metadata": {},
     "output_type": "display_data"
    }
   ],
   "source": [
    "## checking for overfitting\n",
    "#history.history\n",
    "history_df = pd.DataFrame(history.history)\n",
    "plt.figure(figsize = (3,4),dpi=100)\n",
    "plt.plot(history_df['loss'],label='training_loss')\n",
    "plt.plot(history_df['val_loss'],label='val_loss')\n",
    "#plt.ylim(0,100)\n",
    "plt.legend()\n",
    "plt.show()"
   ]
  },
  {
   "cell_type": "code",
   "execution_count": 196,
   "id": "c7d760f9",
   "metadata": {},
   "outputs": [
    {
     "name": "stdout",
     "output_type": "stream",
     "text": [
      "125/125 [==============================] - 0s 2ms/step - loss: 0.1731 - mean_squared_error: 0.1731\n"
     ]
    },
    {
     "data": {
      "text/plain": [
       "[0.1731107085943222, 0.1731107085943222]"
      ]
     },
     "execution_count": 196,
     "metadata": {},
     "output_type": "execute_result"
    }
   ],
   "source": [
    "## Evaluation on the test data\n",
    "model.evaluate(X_test,y_test)"
   ]
  },
  {
   "cell_type": "code",
   "execution_count": 197,
   "id": "ff255554",
   "metadata": {},
   "outputs": [
    {
     "name": "stdout",
     "output_type": "stream",
     "text": [
      "125/125 [==============================] - 0s 2ms/step\n"
     ]
    },
    {
     "data": {
      "text/plain": [
       "array([[28.161942],\n",
       "       [33.07302 ],\n",
       "       [28.361338],\n",
       "       ...,\n",
       "       [23.97756 ],\n",
       "       [22.915382],\n",
       "       [27.268139]], dtype=float32)"
      ]
     },
     "execution_count": 197,
     "metadata": {},
     "output_type": "execute_result"
    }
   ],
   "source": [
    "## predict new test data with the model\n",
    "y_pred = model.predict(X_test)\n",
    "y_pred"
   ]
  },
  {
   "cell_type": "code",
   "execution_count": 198,
   "id": "b5c7dcba",
   "metadata": {},
   "outputs": [
    {
     "data": {
      "image/png": "[encoded data removed]",
      "text/plain": [
       "<Figure size 200x300 with 1 Axes>"
      ]
     },
     "metadata": {},
     "output_type": "display_data"
    }
   ],
   "source": [
    "## Plotting the regression values\n",
    "plt.figure(dpi=100, figsize = (2,3))\n",
    "plt.scatter(y_pred,y_test, color ='k')\n",
    "plt.xlabel('Predicted')\n",
    "plt.ylabel('Actual')\n",
    "plt.title('Actual vs Predicted')\n",
    "plt.xlim([0, 500])\n",
    "plt.ylim([0,500])\n",
    "plt.plot([0, 500],[0,500])\n",
    "plt.show()"
   ]
  },
  {
   "cell_type": "markdown",
   "id": "ce4ff3b7",
   "metadata": {},
   "source": [
    "# Classification"
   ]
  },
  {
   "cell_type": "code",
   "execution_count": 206,
   "id": "119e46d7",
   "metadata": {},
   "outputs": [
    {
     "name": "stdout",
     "output_type": "stream",
     "text": [
      "     Height      Weight\n",
      "0  1.670465   85.218052\n",
      "1  1.778770  101.276708\n",
      "2  1.691616   78.483753\n",
      "3  1.718550   72.263484\n",
      "4  1.829615   62.885382\n",
      "\n",
      "\n",
      "0         Obese\n",
      "1         Obese\n",
      "2    Overweight\n",
      "3        Normal\n",
      "4        Normal\n",
      "Name: class_, dtype: category\n",
      "Categories (4, object): ['Underweight' < 'Normal' < 'Overweight' < 'Obese']\n"
     ]
    }
   ],
   "source": [
    "#Assigning X and y variables for training\n",
    "X = df[['Height','Weight']]\n",
    "y = df['class_']\n",
    "print(X.head())\n",
    "print(\"\\n\")\n",
    "print(y.head())"
   ]
  },
  {
   "cell_type": "code",
   "execution_count": 207,
   "id": "26df1b3b",
   "metadata": {},
   "outputs": [
    {
     "data": {
      "text/plain": [
       "['Obese', 'Overweight', 'Normal', 'Underweight']\n",
       "Categories (4, object): ['Underweight' < 'Normal' < 'Overweight' < 'Obese']"
      ]
     },
     "execution_count": 207,
     "metadata": {},
     "output_type": "execute_result"
    }
   ],
   "source": [
    "y.unique()"
   ]
  },
  {
   "cell_type": "code",
   "execution_count": 208,
   "id": "4ecac341",
   "metadata": {},
   "outputs": [],
   "source": [
    "# Here i am splitting my dataset into train and test set\n",
    "X_train, X_test, y_train, y_test = train_test_split(X, y, test_size=0.2, random_state = 42)"
   ]
  },
  {
   "cell_type": "code",
   "execution_count": 209,
   "id": "dd018e1c",
   "metadata": {},
   "outputs": [
    {
     "data": {
      "text/html": [
       "<div>\n",
       "<style scoped>\n",
       "    .dataframe tbody tr th:only-of-type {\n",
       "        vertical-align: middle;\n",
       "    }\n",
       "\n",
       "    .dataframe tbody tr th {\n",
       "        vertical-align: top;\n",
       "    }\n",
       "\n",
       "    .dataframe thead th {\n",
       "        text-align: right;\n",
       "    }\n",
       "</style>\n",
       "<table border=\"1\" class=\"dataframe\">\n",
       "  <thead>\n",
       "    <tr style=\"text-align: right;\">\n",
       "      <th></th>\n",
       "      <th>Height</th>\n",
       "      <th>Weight</th>\n",
       "    </tr>\n",
       "  </thead>\n",
       "  <tbody>\n",
       "    <tr>\n",
       "      <th>5894</th>\n",
       "      <td>1.700889</td>\n",
       "      <td>53.494515</td>\n",
       "    </tr>\n",
       "    <tr>\n",
       "      <th>3728</th>\n",
       "      <td>1.833436</td>\n",
       "      <td>93.857980</td>\n",
       "    </tr>\n",
       "    <tr>\n",
       "      <th>8958</th>\n",
       "      <td>1.792860</td>\n",
       "      <td>60.443891</td>\n",
       "    </tr>\n",
       "    <tr>\n",
       "      <th>7671</th>\n",
       "      <td>1.832403</td>\n",
       "      <td>55.722457</td>\n",
       "    </tr>\n",
       "    <tr>\n",
       "      <th>5999</th>\n",
       "      <td>1.797051</td>\n",
       "      <td>80.284838</td>\n",
       "    </tr>\n",
       "    <tr>\n",
       "      <th>...</th>\n",
       "      <td>...</td>\n",
       "      <td>...</td>\n",
       "    </tr>\n",
       "    <tr>\n",
       "      <th>11284</th>\n",
       "      <td>1.789678</td>\n",
       "      <td>78.846860</td>\n",
       "    </tr>\n",
       "    <tr>\n",
       "      <th>11964</th>\n",
       "      <td>1.740776</td>\n",
       "      <td>68.041339</td>\n",
       "    </tr>\n",
       "    <tr>\n",
       "      <th>5390</th>\n",
       "      <td>1.644252</td>\n",
       "      <td>74.592671</td>\n",
       "    </tr>\n",
       "    <tr>\n",
       "      <th>860</th>\n",
       "      <td>1.821401</td>\n",
       "      <td>55.575711</td>\n",
       "    </tr>\n",
       "    <tr>\n",
       "      <th>15795</th>\n",
       "      <td>1.747469</td>\n",
       "      <td>69.025057</td>\n",
       "    </tr>\n",
       "  </tbody>\n",
       "</table>\n",
       "<p>16000 rows × 2 columns</p>\n",
       "</div>"
      ],
      "text/plain": [
       "         Height     Weight\n",
       "5894   1.700889  53.494515\n",
       "3728   1.833436  93.857980\n",
       "8958   1.792860  60.443891\n",
       "7671   1.832403  55.722457\n",
       "5999   1.797051  80.284838\n",
       "...         ...        ...\n",
       "11284  1.789678  78.846860\n",
       "11964  1.740776  68.041339\n",
       "5390   1.644252  74.592671\n",
       "860    1.821401  55.575711\n",
       "15795  1.747469  69.025057\n",
       "\n",
       "[16000 rows x 2 columns]"
      ]
     },
     "execution_count": 209,
     "metadata": {},
     "output_type": "execute_result"
    }
   ],
   "source": [
    "X_train"
   ]
  },
  {
   "cell_type": "code",
   "execution_count": 210,
   "id": "4abc9cf2",
   "metadata": {},
   "outputs": [],
   "source": [
    "# Standardising the dataset\n",
    "from sklearn.preprocessing import MinMaxScaler\n",
    "scaler = MinMaxScaler()\n",
    "X_train=scaler.fit_transform(X_train)\n",
    "X_test=scaler.transform(X_test)"
   ]
  },
  {
   "cell_type": "code",
   "execution_count": 211,
   "id": "aa5cd770",
   "metadata": {},
   "outputs": [],
   "source": [
    "from sklearn.preprocessing import OneHotEncoder, LabelEncoder\n",
    "from keras.utils import to_categorical"
   ]
  },
  {
   "cell_type": "code",
   "execution_count": 212,
   "id": "f121ddc0",
   "metadata": {},
   "outputs": [],
   "source": [
    "# Reshaping is important for one hot encoding\n",
    "y_train=y_train.values.reshape(-1,1)\n",
    "y_test=y_test.values.reshape(-1,1)"
   ]
  },
  {
   "cell_type": "code",
   "execution_count": 142,
   "id": "0e5f9cea",
   "metadata": {},
   "outputs": [],
   "source": [
    "# For integer encoding use sparse_categorical_crossentropy as the loss function\n",
    "#le = LabelEncoder()\n",
    "#y_train_le=le.fit_transform(y_train)\n",
    "#y_test_le=le.transform(y_test)"
   ]
  },
  {
   "cell_type": "code",
   "execution_count": 213,
   "id": "57b84875",
   "metadata": {},
   "outputs": [],
   "source": [
    "# For binary or one hot encoding use categorical_crossentropy as loss\n",
    "ohe = OneHotEncoder()\n",
    "y_train_ohe=ohe.fit_transform(y_train)\n",
    "y_train_ohe=y_train_ohe.toarray()\n",
    "y_test_ohe=ohe.transform(y_test)\n",
    "y_test_ohe=y_test_ohe.toarray()"
   ]
  },
  {
   "cell_type": "code",
   "execution_count": 214,
   "id": "8b4c847d",
   "metadata": {},
   "outputs": [
    {
     "data": {
      "text/plain": [
       "[['Underweight'], ['Overweight'], ['Normal'], ['Underweight'], ['Normal'], ..., ['Normal'], ['Normal'], ['Overweight'], ['Underweight'], ['Normal']]\n",
       "Length: 16000\n",
       "Categories (4, object): ['Underweight' < 'Normal' < 'Overweight' < 'Obese']"
      ]
     },
     "execution_count": 214,
     "metadata": {},
     "output_type": "execute_result"
    }
   ],
   "source": [
    "y_train"
   ]
  },
  {
   "cell_type": "code",
   "execution_count": 215,
   "id": "93d08439",
   "metadata": {},
   "outputs": [],
   "source": [
    "model = Sequential()\n",
    "# the input_shape of 2 corresponds to the predictor variables (height, weight)\n",
    "model.add(Dense(units=32,input_shape = (2,),activation = 'relu')) \n",
    "model.add(Dropout(0.2))\n",
    "model.add(Dense(units=256, activation = 'relu'))\n",
    "model.add(Dense(units=4,activation='softmax'))\n",
    "#softmax activation function because it is classification problem"
   ]
  },
  {
   "cell_type": "code",
   "execution_count": 221,
   "id": "08b62c58",
   "metadata": {},
   "outputs": [],
   "source": [
    "from keras.losses import categorical_crossentropy, sparse_categorical_crossentropy\n",
    "from keras.metrics import accuracy"
   ]
  },
  {
   "cell_type": "code",
   "execution_count": 224,
   "id": "e7fac585",
   "metadata": {},
   "outputs": [],
   "source": [
    "model.compile(optimizer='adam', loss='categorical_crossentropy', metrics='accuracy')"
   ]
  },
  {
   "cell_type": "code",
   "execution_count": 223,
   "id": "2edb304a",
   "metadata": {},
   "outputs": [
    {
     "name": "stdout",
     "output_type": "stream",
     "text": [
      "Model: \"sequential_9\"\n",
      "_________________________________________________________________\n",
      " Layer (type)                Output Shape              Param #   \n",
      "=================================================================\n",
      " dense_27 (Dense)            (None, 32)                96        \n",
      "                                                                 \n",
      " dropout_9 (Dropout)         (None, 32)                0         \n",
      "                                                                 \n",
      " dense_28 (Dense)            (None, 256)               8448      \n",
      "                                                                 \n",
      " dense_29 (Dense)            (None, 4)                 1028      \n",
      "                                                                 \n",
      "=================================================================\n",
      "Total params: 9,572\n",
      "Trainable params: 9,572\n",
      "Non-trainable params: 0\n",
      "_________________________________________________________________\n"
     ]
    }
   ],
   "source": [
    "model.summary()"
   ]
  },
  {
   "cell_type": "code",
   "execution_count": 225,
   "id": "73460c44",
   "metadata": {},
   "outputs": [
    {
     "name": "stdout",
     "output_type": "stream",
     "text": [
      "Epoch 1/10\n",
      "400/400 [==============================] - 3s 4ms/step - loss: 0.0930 - accuracy: 0.9618 - val_loss: 0.0601 - val_accuracy: 0.9847\n",
      "Epoch 2/10\n",
      "400/400 [==============================] - 1s 3ms/step - loss: 0.0875 - accuracy: 0.9666 - val_loss: 0.0742 - val_accuracy: 0.9659\n",
      "Epoch 3/10\n",
      "400/400 [==============================] - 2s 5ms/step - loss: 0.0848 - accuracy: 0.9653 - val_loss: 0.0725 - val_accuracy: 0.9653\n",
      "Epoch 4/10\n",
      "400/400 [==============================] - 3s 6ms/step - loss: 0.0806 - accuracy: 0.9665 - val_loss: 0.0678 - val_accuracy: 0.9694\n",
      "Epoch 5/10\n",
      "400/400 [==============================] - 2s 6ms/step - loss: 0.0785 - accuracy: 0.9670 - val_loss: 0.0476 - val_accuracy: 0.9894\n",
      "Epoch 6/10\n",
      "400/400 [==============================] - 1s 4ms/step - loss: 0.0741 - accuracy: 0.9698 - val_loss: 0.0452 - val_accuracy: 0.9897\n",
      "Epoch 7/10\n",
      "400/400 [==============================] - 2s 6ms/step - loss: 0.0780 - accuracy: 0.9691 - val_loss: 0.0601 - val_accuracy: 0.9737\n",
      "Epoch 8/10\n",
      "400/400 [==============================] - 3s 7ms/step - loss: 0.0733 - accuracy: 0.9709 - val_loss: 0.0658 - val_accuracy: 0.9697\n",
      "Epoch 9/10\n",
      "400/400 [==============================] - 2s 4ms/step - loss: 0.0804 - accuracy: 0.9659 - val_loss: 0.0400 - val_accuracy: 0.9875\n",
      "Epoch 10/10\n",
      "400/400 [==============================] - 3s 6ms/step - loss: 0.0661 - accuracy: 0.9732 - val_loss: 0.0543 - val_accuracy: 0.9747\n"
     ]
    }
   ],
   "source": [
    "history=model.fit(X_train,y_train_ohe, epochs=200,validation_split=0.20)"
   ]
  },
  {
   "cell_type": "code",
   "execution_count": 220,
   "id": "0b23775a",
   "metadata": {},
   "outputs": [
    {
     "data": {
      "image/png": "[encoded data removed]",
      "text/plain": [
       "<Figure size 200x300 with 1 Axes>"
      ]
     },
     "metadata": {},
     "output_type": "display_data"
    }
   ],
   "source": [
    "## checking for overfitting\n",
    "history_df = pd.DataFrame(history.history)\n",
    "plt.figure(dpi=100, figsize = (2,3))\n",
    "plt.plot(history_df['loss'],\n",
    "label='training_loss')\n",
    "plt.plot(history_df['val_loss'],\n",
    "label='val_loss')\n",
    "plt.xlabel('Loss')\n",
    "plt.ylabel('Epochs')\n",
    "plt.legend()\n",
    "plt.show()"
   ]
  },
  {
   "cell_type": "code",
   "execution_count": 229,
   "id": "724656d9",
   "metadata": {},
   "outputs": [
    {
     "name": "stdout",
     "output_type": "stream",
     "text": [
      "125/125 [==============================] - 0s 2ms/step\n"
     ]
    }
   ],
   "source": [
    "pred=model.predict(X_test) # assigning the prediction to a variable for further evaluation"
   ]
  },
  {
   "cell_type": "code",
   "execution_count": 230,
   "id": "d8743470",
   "metadata": {},
   "outputs": [
    {
     "data": {
      "text/plain": [
       "array([[4.52262263e-08, 4.84927876e-09, 1.00000000e+00, 4.07392886e-26],\n",
       "       [1.19757410e-02, 8.06899689e-25, 1.16964586e-07, 9.88024175e-01],\n",
       "       [2.17925162e-07, 6.22663379e-07, 9.99999166e-01, 6.53959783e-22],\n",
       "       ...,\n",
       "       [8.36543797e-04, 2.60101518e-09, 9.99163508e-01, 2.73363257e-18],\n",
       "       [7.37391189e-02, 2.69672440e-09, 9.26260948e-01, 2.00836086e-15],\n",
       "       [3.74482106e-03, 2.44469823e-32, 6.59093391e-10, 9.96255159e-01]],\n",
       "      dtype=float32)"
      ]
     },
     "execution_count": 230,
     "metadata": {},
     "output_type": "execute_result"
    }
   ],
   "source": [
    "pred"
   ]
  },
  {
   "cell_type": "code",
   "execution_count": 231,
   "id": "691029e8",
   "metadata": {},
   "outputs": [],
   "source": [
    "pred_class = np.argmax(pred,axis=1) # argmax, axis = 1, returns the index along the column"
   ]
  },
  {
   "cell_type": "markdown",
   "id": "eed06ec0",
   "metadata": {},
   "source": [
    "The code pred_class = np.argmax(pred, axis=1) uses the argmax function from the NumPy library to find the index of the maximum value along the second axis (i.e., columns) of the pred array.\n",
    "\n",
    "In the context of classification problems, this code is often used to convert the predicted probability distribution for each sample into a single class label. The pred array typically contains the predicted probabilities for each class, where each row corresponds to a sample and each column corresponds to a class. The argmax function is applied along the second axis (i.e., columns) to find the index of the column with the highest probability for each row. This index corresponds to the predicted class label for that sample.\n",
    "\n",
    "For example, let’s say we have a binary classification problem with two classes, 0 and 1. The pred array could look like this:\n",
    "    \n",
    "    pred = np.array([[0.2, 0.8], [0.9, 0.1], [0.4, 0.6]])\n",
    "    \n",
    "    \n",
    "    This means that for the first sample, the predicted probability for class 0 is 0.2 and the predicted probability for class 1 is 0.8. For the second sample, the predicted probability for class 0 is 0.9 and the predicted probability for class 1 is 0.1"
   ]
  },
  {
   "cell_type": "code",
   "execution_count": 232,
   "id": "8e2ef72a",
   "metadata": {},
   "outputs": [
    {
     "data": {
      "text/plain": [
       "array([2, 3, 2, ..., 2, 2, 3], dtype=int64)"
      ]
     },
     "execution_count": 232,
     "metadata": {},
     "output_type": "execute_result"
    }
   ],
   "source": [
    "pred_class"
   ]
  },
  {
   "cell_type": "code",
   "execution_count": 233,
   "id": "1d805558",
   "metadata": {},
   "outputs": [
    {
     "data": {
      "text/plain": [
       "array([2, 3, 2, ..., 2, 2, 3], dtype=int64)"
      ]
     },
     "execution_count": 233,
     "metadata": {},
     "output_type": "execute_result"
    }
   ],
   "source": [
    "y_test_ohe = np.argmax(y_test_ohe,axis = 1)\n",
    "y_test_ohe"
   ]
  },
  {
   "cell_type": "code",
   "execution_count": 234,
   "id": "45a0e453",
   "metadata": {},
   "outputs": [],
   "source": [
    "from sklearn.metrics import ConfusionMatrixDisplay"
   ]
  },
  {
   "cell_type": "code",
   "execution_count": 235,
   "id": "3de8d3bd",
   "metadata": {},
   "outputs": [
    {
     "data": {
      "text/plain": [
       "<Figure size 2000x3000 with 0 Axes>"
      ]
     },
     "metadata": {},
     "output_type": "display_data"
    },
    {
     "data": {
      "image/png": "[encoded data removed]",
      "text/plain": [
       "<Figure size 640x480 with 2 Axes>"
      ]
     },
     "metadata": {},
     "output_type": "display_data"
    }
   ],
   "source": [
    "plt.figure(dpi=200, figsize=(10,15))\n",
    "ConfusionMatrixDisplay.from_predictions(y_test_ohe,pred_class, display_labels=df['class_'].unique())\n",
    "plt.show()"
   ]
  },
  {
   "cell_type": "code",
   "execution_count": 237,
   "id": "ef6ff2b0",
   "metadata": {},
   "outputs": [
    {
     "name": "stdout",
     "output_type": "stream",
     "text": [
      "              precision    recall  f1-score   support\n",
      "\n",
      "           0       0.96      1.00      0.98      1631\n",
      "           1       1.00      0.92      0.96       598\n",
      "           2       0.97      0.96      0.96      1374\n",
      "           3       0.99      0.98      0.99       397\n",
      "\n",
      "    accuracy                           0.97      4000\n",
      "   macro avg       0.98      0.97      0.97      4000\n",
      "weighted avg       0.97      0.97      0.97      4000\n",
      "\n"
     ]
    }
   ],
   "source": [
    "# Classification report\n",
    "from sklearn.metrics import classification_report\n",
    "print(classification_report(y_test_ohe,pred_class))"
   ]
  },
  {
   "cell_type": "code",
   "execution_count": null,
   "id": "9cbdaf1b",
   "metadata": {},
   "outputs": [],
   "source": []
  }
 ],
 "metadata": {
  "kernelspec": {
   "display_name": "Python 3 (ipykernel)",
   "language": "python",
   "name": "python3"
  },
  "language_info": {
   "codemirror_mode": {
    "name": "ipython",
    "version": 3
   },
   "file_extension": ".py",
   "mimetype": "text/x-python",
   "name": "python",
   "nbconvert_exporter": "python",
   "pygments_lexer": "ipython3",
   "version": "3.9.13"
  }
 },
 "nbformat": 4,
 "nbformat_minor": 5
}
